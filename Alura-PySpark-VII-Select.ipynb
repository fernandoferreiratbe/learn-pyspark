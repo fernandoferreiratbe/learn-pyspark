{
 "cells": [
  {
   "cell_type": "code",
   "execution_count": 31,
   "id": "c9fd1b58-f5e8-4d42-93af-d628f262917f",
   "metadata": {},
   "outputs": [],
   "source": [
    "\"\"\" Define imports to work with PySpark \"\"\"\n",
    "\n",
    "import os\n",
    "from pyspark.sql import SparkSession\n",
    "from pyspark.sql import functions as f\n",
    "from pyspark.sql.types import StringType"
   ]
  },
  {
   "cell_type": "code",
   "execution_count": 3,
   "id": "1f4000c1-5b8d-4826-9cda-47114d8435dd",
   "metadata": {},
   "outputs": [
    {
     "name": "stderr",
     "output_type": "stream",
     "text": [
      "24/12/29 12:10:33 WARN SparkSession: Using an existing Spark session; only runtime SQL configurations will take effect.\n",
      "24/12/29 12:10:33 WARN GarbageCollectionMetrics: To enable non-built-in garbage collector(s) List(G1 Concurrent GC), users should configure it(them) to spark.eventLog.gcMetrics.youngGenerationGarbageCollectors or spark.eventLog.gcMetrics.oldGenerationGarbageCollectors\n"
     ]
    }
   ],
   "source": [
    "\"\"\" Configure environment \"\"\" \n",
    "\n",
    "os.environ[\"SPARK_HOME\"] = \"/usr/local/bin/spark-3.5.1-bin-hadoop3\"\n",
    "spark_session = SparkSession.builder.appName(\"Select records\").getOrCreate()\n",
    "input_file_path = \"/Users/fernandoferreira/Code/pyspark-course/data/\""
   ]
  },
  {
   "cell_type": "code",
   "execution_count": 4,
   "id": "cbe31a3e-4733-4ac8-b7da-8e4e61ed57a3",
   "metadata": {},
   "outputs": [
    {
     "name": "stderr",
     "output_type": "stream",
     "text": [
      "                                                                                \r"
     ]
    }
   ],
   "source": [
    "\"\"\" Load data to spark data frame through 'generic' read method \"\"\"\n",
    "\n",
    "empresas_database_file = f\"{input_file_path}/empresas\"\n",
    "empresas_df = spark_session.read.format('csv').load(empresas_database_file, sep=';', inferSchema=True)"
   ]
  },
  {
   "cell_type": "code",
   "execution_count": 11,
   "id": "4e160a6a-5a11-409e-967f-cf60cd48be36",
   "metadata": {},
   "outputs": [],
   "source": [
    "\"\"\" Rename Columns \"\"\"\n",
    "empresas_column_name = ['cnpj_basico', 'razao_social_nome_empresarial', 'natureza_juridica', 'qualificacao_do_responsavel', 'capital_social_da_empresa', 'porte_da_empresa', 'ente_federativo_responsavel']\n",
    "\n",
    "for index, column in enumerate(empresas_column_name):\n",
    "    empresas_df = empresas_df.withColumnRenamed(f\"_c{index}\", column)"
   ]
  },
  {
   "cell_type": "code",
   "execution_count": 13,
   "id": "2d3f0aaf-232f-4c7c-aa45-dbc5f25bfc08",
   "metadata": {},
   "outputs": [
    {
     "name": "stdout",
     "output_type": "stream",
     "text": [
      "+-----------+-------------------------------------------------------------------------------------+-----------------+---------------------------+-------------------------+----------------+---------------------------+\n",
      "|cnpj_basico|razao_social_nome_empresarial                                                        |natureza_juridica|qualificacao_do_responsavel|capital_social_da_empresa|porte_da_empresa|ente_federativo_responsavel|\n",
      "+-----------+-------------------------------------------------------------------------------------+-----------------+---------------------------+-------------------------+----------------+---------------------------+\n",
      "|403        |ALUPE REPRESENTACOES LTDA                                                            |2240             |49                         |0,00                     |1               |NULL                       |\n",
      "|2498       |JCA COMERCIO E REPRESENTACOES LTDA                                                   |2062             |49                         |0,00                     |5               |NULL                       |\n",
      "|4599       |ROSA MARIA DE PAIVA MENEZES                                                          |2135             |50                         |0,00                     |5               |NULL                       |\n",
      "|13090      |ADELINA ZANETI PARDINI                                                               |2135             |50                         |0,00                     |1               |NULL                       |\n",
      "|16903      |PERSONNALITE SPR CURTO PRAZO - FUNDO DE APLICACAO EM QUOTAS DE FUNDOS DE INVESTIMENTO|2224             |43                         |0,00                     |5               |NULL                       |\n",
      "+-----------+-------------------------------------------------------------------------------------+-----------------+---------------------------+-------------------------+----------------+---------------------------+\n",
      "only showing top 5 rows\n",
      "\n"
     ]
    }
   ],
   "source": [
    "\"\"\" Select all coluns from dataframe \"\"\"\n",
    "empresas_df\\\n",
    "    .select('*')\\\n",
    "    .show(5, False)"
   ]
  },
  {
   "cell_type": "code",
   "execution_count": 15,
   "id": "f4588a11-fafa-474e-afb2-48d8066e2e33",
   "metadata": {},
   "outputs": [
    {
     "name": "stdout",
     "output_type": "stream",
     "text": [
      "+-----------------+----------------+-------------------------+\n",
      "|natureza_juridica|porte_da_empresa|capital_social_da_empresa|\n",
      "+-----------------+----------------+-------------------------+\n",
      "|2240             |1               |0,00                     |\n",
      "|2062             |5               |0,00                     |\n",
      "|2135             |5               |0,00                     |\n",
      "|2135             |1               |0,00                     |\n",
      "|2224             |5               |0,00                     |\n",
      "+-----------------+----------------+-------------------------+\n",
      "only showing top 5 rows\n",
      "\n"
     ]
    }
   ],
   "source": [
    "\"\"\" Select specific columns from dataframe \"\"\"\n",
    "\n",
    "empresas_df.select('natureza_juridica', 'porte_da_empresa', 'capital_social_da_empresa').show(5, False)"
   ]
  },
  {
   "cell_type": "code",
   "execution_count": 17,
   "id": "95bdabac-5028-4080-ad13-f3ba07511ba4",
   "metadata": {},
   "outputs": [],
   "source": [
    "\" Load Socios database files \"\n",
    "\n",
    "socios_database_files = f\"{input_file_path}/socios\"\n",
    "socios_df = spark_session.read.format('csv').load(socios_database_files, sep=';', inferShema=True)"
   ]
  },
  {
   "cell_type": "code",
   "execution_count": 18,
   "id": "00cbbe85-f89a-4c16-8023-3679f7eebbd0",
   "metadata": {},
   "outputs": [
    {
     "name": "stdout",
     "output_type": "stream",
     "text": [
      "Socios dataframe columns renamend successfully\n"
     ]
    }
   ],
   "source": [
    "\" Rename Socios dataframe columns \"\n",
    "socios_column_names = ['cnpj_basico', 'identificador_de_socio', 'nome_do_socio_ou_razao_social', 'cnpj_ou_cpf_do_socio', 'qualificacao_do_socio', 'data_de_entrada_sociedade', 'pais', 'representante_legal', 'nome_do_representante', 'qualificacao_do_representante_legal', 'faixa_etaria']\n",
    "\n",
    "for index, column in enumerate(socios_column_names):\n",
    "    socios_df = socios_df.withColumnRenamed(f\"_c{index}\", column)\n",
    "\n",
    "print(\"Socios dataframe columns renamend successfully\")"
   ]
  },
  {
   "cell_type": "code",
   "execution_count": 23,
   "id": "b87ba207-49a1-4a29-a4b0-4f0f4fa841ea",
   "metadata": {},
   "outputs": [
    {
     "name": "stdout",
     "output_type": "stream",
     "text": [
      "+-------------------------------+------------+-------------------------+\n",
      "|nome_do_socio_ou_razao_social  |faixa_etaria|data_de_entrada_sociedade|\n",
      "+-------------------------------+------------+-------------------------+\n",
      "|LILIANA PATRICIA GUASTAVINO    |7           |19940725                 |\n",
      "|CRISTINA HUNDERTMARK           |7           |19940725                 |\n",
      "|CELSO EDUARDO DE CASTRO STEPHAN|8           |19940516                 |\n",
      "|EDUARDO BERRINGER STEPHAN      |5           |19940516                 |\n",
      "|HANNE MAHFOUD FADEL            |8           |19940609                 |\n",
      "+-------------------------------+------------+-------------------------+\n",
      "only showing top 5 rows\n",
      "\n"
     ]
    }
   ],
   "source": [
    "\" Select specific columns in row format \"\n",
    "socios_df\\\n",
    "    .select('nome_do_socio_ou_razao_social', 'faixa_etaria', 'data_de_entrada_sociedade')\\\n",
    "    .show(5, False)"
   ]
  },
  {
   "cell_type": "code",
   "execution_count": 27,
   "id": "8428ae16-f15e-47a8-ba04-6379a1cb773c",
   "metadata": {},
   "outputs": [
    {
     "name": "stdout",
     "output_type": "stream",
     "text": [
      "+-------------------------------+------------+--------------+\n",
      "|nome_do_socio_ou_razao_social  |faixa_etaria|ano_de_entrada|\n",
      "+-------------------------------+------------+--------------+\n",
      "|LILIANA PATRICIA GUASTAVINO    |7           |NULL          |\n",
      "|CRISTINA HUNDERTMARK           |7           |NULL          |\n",
      "|CELSO EDUARDO DE CASTRO STEPHAN|8           |NULL          |\n",
      "|EDUARDO BERRINGER STEPHAN      |5           |NULL          |\n",
      "|HANNE MAHFOUD FADEL            |8           |NULL          |\n",
      "+-------------------------------+------------+--------------+\n",
      "only showing top 5 rows\n",
      "\n"
     ]
    }
   ],
   "source": [
    "\" Select specific columns formating date column \"\n",
    "socios_df\\\n",
    "    .select('nome_do_socio_ou_razao_social', 'faixa_etaria', f.year('data_de_entrada_sociedade').alias('ano_de_entrada'))\\\n",
    "    .show(5, False)\n"
   ]
  },
  {
   "cell_type": "code",
   "execution_count": 29,
   "id": "438e80a5-ef0e-4f65-9091-c60e47ffabce",
   "metadata": {},
   "outputs": [
    {
     "name": "stdout",
     "output_type": "stream",
     "text": [
      "root\n",
      " |-- cnpj_basico: string (nullable = true)\n",
      " |-- identificador_de_socio: string (nullable = true)\n",
      " |-- nome_do_socio_ou_razao_social: string (nullable = true)\n",
      " |-- cnpj_ou_cpf_do_socio: string (nullable = true)\n",
      " |-- qualificacao_do_socio: string (nullable = true)\n",
      " |-- data_de_entrada_sociedade: string (nullable = true)\n",
      " |-- pais: string (nullable = true)\n",
      " |-- representante_legal: string (nullable = true)\n",
      " |-- nome_do_representante: string (nullable = true)\n",
      " |-- qualificacao_do_representante_legal: string (nullable = true)\n",
      " |-- faixa_etaria: string (nullable = true)\n",
      "\n"
     ]
    }
   ],
   "source": [
    "\" Print Schema of Socios Dataframe \"\n",
    "socios_df.printSchema()"
   ]
  },
  {
   "cell_type": "code",
   "execution_count": 32,
   "id": "39c21d4e-e595-4be0-8fdf-ad84d622025b",
   "metadata": {},
   "outputs": [],
   "source": [
    "\" Casting date column to date format in order to use specific functions to handle date \"\n",
    "\n",
    "socios_df = socios_df.withColumn('data_de_entrada_sociedade', f.to_date(socios_df.data_de_entrada_sociedade.cast(StringType()), 'yyyyMMdd'))"
   ]
  },
  {
   "cell_type": "code",
   "execution_count": 33,
   "id": "6e73fca4-6096-4e38-9d93-a488d142e969",
   "metadata": {},
   "outputs": [
    {
     "name": "stdout",
     "output_type": "stream",
     "text": [
      "root\n",
      " |-- cnpj_basico: string (nullable = true)\n",
      " |-- identificador_de_socio: string (nullable = true)\n",
      " |-- nome_do_socio_ou_razao_social: string (nullable = true)\n",
      " |-- cnpj_ou_cpf_do_socio: string (nullable = true)\n",
      " |-- qualificacao_do_socio: string (nullable = true)\n",
      " |-- data_de_entrada_sociedade: date (nullable = true)\n",
      " |-- pais: string (nullable = true)\n",
      " |-- representante_legal: string (nullable = true)\n",
      " |-- nome_do_representante: string (nullable = true)\n",
      " |-- qualificacao_do_representante_legal: string (nullable = true)\n",
      " |-- faixa_etaria: string (nullable = true)\n",
      "\n"
     ]
    }
   ],
   "source": [
    "\" Print Schema of Socios Dataframe after change colum type \"\n",
    "\n",
    "socios_df.printSchema()"
   ]
  },
  {
   "cell_type": "code",
   "execution_count": 34,
   "id": "d3b7c4d8-2a22-43bb-9fc3-95be52e6d5c0",
   "metadata": {},
   "outputs": [
    {
     "name": "stdout",
     "output_type": "stream",
     "text": [
      "+-------------------------------+------------+--------------+\n",
      "|nome_do_socio_ou_razao_social  |faixa_etaria|ano_de_entrada|\n",
      "+-------------------------------+------------+--------------+\n",
      "|LILIANA PATRICIA GUASTAVINO    |7           |1994          |\n",
      "|CRISTINA HUNDERTMARK           |7           |1994          |\n",
      "|CELSO EDUARDO DE CASTRO STEPHAN|8           |1994          |\n",
      "|EDUARDO BERRINGER STEPHAN      |5           |1994          |\n",
      "|HANNE MAHFOUD FADEL            |8           |1994          |\n",
      "+-------------------------------+------------+--------------+\n",
      "only showing top 5 rows\n",
      "\n"
     ]
    }
   ],
   "source": [
    "\" Select specific columns formating date column after casting data_de_entrada_sociedade column to date\"\n",
    "socios_df\\\n",
    "    .select('nome_do_socio_ou_razao_social', 'faixa_etaria', f.year('data_de_entrada_sociedade').alias('ano_de_entrada'))\\\n",
    "    .show(5, False)\n"
   ]
  },
  {
   "cell_type": "code",
   "execution_count": 49,
   "id": "d74cf98a-354d-426b-9b8e-246e5c091cf2",
   "metadata": {},
   "outputs": [
    {
     "name": "stderr",
     "output_type": "stream",
     "text": [
      "                                                                                \r"
     ]
    }
   ],
   "source": [
    "\" Load Estabelecimentos Dataframe \"\n",
    "\n",
    "estabelecimentos_database_files = f\"{input_file_path}/estabelecimentos\"\n",
    "\n",
    "estabelecimentos_df = spark_session.read.format('csv').load(estabelecimentos_database_files, sep=';', inferSchema=True)"
   ]
  },
  {
   "cell_type": "code",
   "execution_count": 64,
   "id": "1d0fc880-7adb-4643-ba07-7ce4d01e7a9e",
   "metadata": {},
   "outputs": [],
   "source": [
    "\" Handle Estabelecimentos Dataframe \"\n",
    "\n",
    "estabelecimento_column_names = ['cnpj_basico', 'cnpj_ordem', 'cnpj_dv', 'identificador_matriz_filial', 'nome_fantasia', 'situacao_cadastral', 'data_situacao_cadastral', 'motivo_situacao_cadastral', 'nome_da_cidade_no_exterior', 'pais', 'data_de_inicio_atividade', 'cnae_fiscal_principal', 'cnae_fiscal_secundaria', 'tipo_de_logradouro', 'logradouro', 'numero', 'complemento', 'bairro', 'cep', 'uf', 'municipio', 'ddd_1', 'telefone_1', 'ddd_2', 'telefone_2', 'ddd_do_fax', 'fax', 'correio_eletronico', 'situacao_especial', 'data_da_situacao_especial']\n",
    "for index, column_name in enumerate(estabelecimento_column_names):\n",
    "    estabelecimentos_df = estabelecimentos_df.withColumnRenamed(f\"_c{index}\", column_name)\n",
    "\n",
    "estabelecimentos_df = estabelecimentos_df\\\n",
    "                        .withColumn(\"data_de_inicio_atividade\", \n",
    "                                    f.to_date(estabelecimentos_df.data_de_inicio_atividade.cast(StringType()), \"yyyyMMdd\"))"
   ]
  },
  {
   "cell_type": "code",
   "execution_count": 65,
   "id": "d4f9501f-d6d7-457f-9eaf-b20df7074258",
   "metadata": {},
   "outputs": [
    {
     "name": "stdout",
     "output_type": "stream",
     "text": [
      "root\n",
      " |-- cnpj_basico: integer (nullable = true)\n",
      " |-- cnpj_ordem: integer (nullable = true)\n",
      " |-- cnpj_dv: integer (nullable = true)\n",
      " |-- identificador_matriz_filial: integer (nullable = true)\n",
      " |-- nome_fantasia: string (nullable = true)\n",
      " |-- situacao_cadastral: integer (nullable = true)\n",
      " |-- data_situacao_cadastral: integer (nullable = true)\n",
      " |-- motivo_situacao_cadastral: integer (nullable = true)\n",
      " |-- nome_da_cidade_no_exterior: string (nullable = true)\n",
      " |-- pais: integer (nullable = true)\n",
      " |-- data_de_inicio_atividade: date (nullable = true)\n",
      " |-- cnae_fiscal_principal: integer (nullable = true)\n",
      " |-- cnae_fiscal_secundaria: string (nullable = true)\n",
      " |-- tipo_de_logradouro: string (nullable = true)\n",
      " |-- logradouro: string (nullable = true)\n",
      " |-- numero: string (nullable = true)\n",
      " |-- complemento: string (nullable = true)\n",
      " |-- bairro: string (nullable = true)\n",
      " |-- cep: integer (nullable = true)\n",
      " |-- uf: string (nullable = true)\n",
      " |-- municipio: integer (nullable = true)\n",
      " |-- ddd_1: string (nullable = true)\n",
      " |-- telefone_1: string (nullable = true)\n",
      " |-- ddd_2: string (nullable = true)\n",
      " |-- telefone_2: string (nullable = true)\n",
      " |-- ddd_do_fax: integer (nullable = true)\n",
      " |-- fax: string (nullable = true)\n",
      " |-- correio_eletronico: string (nullable = true)\n",
      " |-- situacao_especial: string (nullable = true)\n",
      " |-- data_da_situacao_especial: integer (nullable = true)\n",
      "\n"
     ]
    }
   ],
   "source": [
    "estabelecimentos_df.printSchema()"
   ]
  },
  {
   "cell_type": "code",
   "execution_count": 71,
   "id": "9945467c-3c2d-4811-905a-06f4f08b167f",
   "metadata": {},
   "outputs": [
    {
     "name": "stdout",
     "output_type": "stream",
     "text": [
      "+-----------------+---------+-----------------------+-----------------------+\n",
      "|nome_fantasia    |municipio|ano_de_inicio_atividade|mes_de_inicio_atividade|\n",
      "+-----------------+---------+-----------------------+-----------------------+\n",
      "|PIRAMIDE M. C.   |7107     |1994                   |5                      |\n",
      "|NULL             |7107     |1994                   |5                      |\n",
      "|NULL             |7107     |1994                   |5                      |\n",
      "|NULL             |7107     |1994                   |5                      |\n",
      "|EMBROIDERY & GIFT|7075     |1995                   |5                      |\n",
      "+-----------------+---------+-----------------------+-----------------------+\n",
      "only showing top 5 rows\n",
      "\n"
     ]
    }
   ],
   "source": [
    "estabelecimentos_df\\\n",
    "    .select(\"nome_fantasia\", \\\n",
    "            \"municipio\", \\\n",
    "            f.year('data_de_inicio_atividade').alias('ano_de_inicio_atividade'),\\\n",
    "            f.month('data_de_inicio_atividade').alias('mes_de_inicio_atividade'))\\\n",
    "    .show(5, False)"
   ]
  },
  {
   "cell_type": "code",
   "execution_count": null,
   "id": "e2aebc68-d593-4626-a0e5-9d518f5caadc",
   "metadata": {},
   "outputs": [],
   "source": []
  }
 ],
 "metadata": {
  "kernelspec": {
   "display_name": "Python 3 (ipykernel)",
   "language": "python",
   "name": "python3"
  },
  "language_info": {
   "codemirror_mode": {
    "name": "ipython",
    "version": 3
   },
   "file_extension": ".py",
   "mimetype": "text/x-python",
   "name": "python",
   "nbconvert_exporter": "python",
   "pygments_lexer": "ipython3",
   "version": "3.11.7"
  }
 },
 "nbformat": 4,
 "nbformat_minor": 5
}
