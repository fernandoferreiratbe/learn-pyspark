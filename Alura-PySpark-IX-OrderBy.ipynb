{
 "cells": [
  {
   "cell_type": "code",
   "execution_count": 1,
   "id": "ce7fd2a1-e869-4335-9ab2-c546d2d40ed6",
   "metadata": {},
   "outputs": [],
   "source": [
    "\"\"\" Define imports to work with PySpark \"\"\"\n",
    "\n",
    "import os\n",
    "from pyspark.sql import SparkSession\n",
    "from pyspark.sql import functions as f\n",
    "from pyspark.sql.types import StringType"
   ]
  },
  {
   "cell_type": "code",
   "execution_count": 2,
   "id": "aeeaaba6-9e5c-4044-9e97-ad997684e38c",
   "metadata": {},
   "outputs": [
    {
     "name": "stderr",
     "output_type": "stream",
     "text": [
      "25/02/26 08:25:59 WARN Utils: Your hostname, Fernandos-MacBook-Pro.local resolves to a loopback address: 127.0.0.1; using 192.168.1.7 instead (on interface en0)\n",
      "25/02/26 08:25:59 WARN Utils: Set SPARK_LOCAL_IP if you need to bind to another address\n",
      "Setting default log level to \"WARN\".\n",
      "To adjust logging level use sc.setLogLevel(newLevel). For SparkR, use setLogLevel(newLevel).\n",
      "25/02/26 08:25:59 WARN NativeCodeLoader: Unable to load native-hadoop library for your platform... using builtin-java classes where applicable\n",
      "25/02/26 08:26:15 WARN GarbageCollectionMetrics: To enable non-built-in garbage collector(s) List(G1 Concurrent GC), users should configure it(them) to spark.eventLog.gcMetrics.youngGenerationGarbageCollectors or spark.eventLog.gcMetrics.oldGenerationGarbageCollectors\n"
     ]
    }
   ],
   "source": [
    "\"\"\" Configure environment \"\"\" \n",
    "\n",
    "os.environ[\"SPARK_HOME\"] = \"/usr/local/bin/spark-3.5.1-bin-hadoop3\"\n",
    "spark_session = SparkSession.builder.appName(\"Order by\").getOrCreate()\n",
    "\n",
    "input_file_path = \"/Users/fernandoferreira/Code/pyspark-course/data/\""
   ]
  },
  {
   "cell_type": "code",
   "execution_count": 3,
   "id": "ce591885-1c2f-4d81-88d7-3b442a463099",
   "metadata": {},
   "outputs": [
    {
     "name": "stderr",
     "output_type": "stream",
     "text": [
      "[Stage 2:>                                                        (0 + 10) / 10]\r"
     ]
    },
    {
     "name": "stdout",
     "output_type": "stream",
     "text": [
      "Socios table records quantity: 2046430\n"
     ]
    },
    {
     "name": "stderr",
     "output_type": "stream",
     "text": [
      "                                                                                \r"
     ]
    }
   ],
   "source": [
    "\"\"\" Load socios database \"\"\"\n",
    "\n",
    "socios_df = spark_session\\\n",
    "                .read\\\n",
    "                .format('csv')\\\n",
    "                .load(f\"{input_file_path}/socios\", sep=\";\", inferSchema=True)\n",
    "\n",
    "print(f\"Socios table records quantity: {socios_df.count()}\")"
   ]
  },
  {
   "cell_type": "code",
   "execution_count": 5,
   "id": "a721e7fd-4be1-43e7-8cdb-223e1d0e3bcf",
   "metadata": {},
   "outputs": [
    {
     "name": "stdout",
     "output_type": "stream",
     "text": [
      "root\n",
      " |-- cnpj_basico: integer (nullable = true)\n",
      " |-- identificador_de_socio: integer (nullable = true)\n",
      " |-- nome_do_socio_ou_razao_social: string (nullable = true)\n",
      " |-- cnpj_ou_cpf_do_socio: string (nullable = true)\n",
      " |-- qualificacao_do_socio: integer (nullable = true)\n",
      " |-- data_de_entrada_sociedade: integer (nullable = true)\n",
      " |-- pais: integer (nullable = true)\n",
      " |-- representante_legal: string (nullable = true)\n",
      " |-- nome_do_representante: string (nullable = true)\n",
      " |-- qualificacao_do_representante_legal: integer (nullable = true)\n",
      " |-- faixa_etaria: integer (nullable = true)\n",
      "\n"
     ]
    }
   ],
   "source": [
    "\"\"\" Rename data frame colums \"\"\"\n",
    "\n",
    "socios_column_names = ['cnpj_basico', 'identificador_de_socio', 'nome_do_socio_ou_razao_social', 'cnpj_ou_cpf_do_socio', 'qualificacao_do_socio', 'data_de_entrada_sociedade', 'pais', 'representante_legal', 'nome_do_representante', 'qualificacao_do_representante_legal', 'faixa_etaria']\n",
    "for index, column_name in enumerate(socios_column_names):\n",
    "    socios_df = socios_df.withColumnRenamed(f\"_c{index}\", column_name)\n",
    "socios_df.printSchema()"
   ]
  },
  {
   "cell_type": "code",
   "execution_count": 7,
   "id": "4e7a5483-0747-4297-ac48-04b0f629738f",
   "metadata": {},
   "outputs": [
    {
     "name": "stdout",
     "output_type": "stream",
     "text": [
      "root\n",
      " |-- cnpj_basico: integer (nullable = true)\n",
      " |-- identificador_de_socio: integer (nullable = true)\n",
      " |-- nome_do_socio_ou_razao_social: string (nullable = true)\n",
      " |-- cnpj_ou_cpf_do_socio: string (nullable = true)\n",
      " |-- qualificacao_do_socio: integer (nullable = true)\n",
      " |-- data_de_entrada_sociedade: date (nullable = true)\n",
      " |-- pais: integer (nullable = true)\n",
      " |-- representante_legal: string (nullable = true)\n",
      " |-- nome_do_representante: string (nullable = true)\n",
      " |-- qualificacao_do_representante_legal: integer (nullable = true)\n",
      " |-- faixa_etaria: integer (nullable = true)\n",
      "\n"
     ]
    },
    {
     "data": {
      "text/html": [
       "<div>\n",
       "<style scoped>\n",
       "    .dataframe tbody tr th:only-of-type {\n",
       "        vertical-align: middle;\n",
       "    }\n",
       "\n",
       "    .dataframe tbody tr th {\n",
       "        vertical-align: top;\n",
       "    }\n",
       "\n",
       "    .dataframe thead th {\n",
       "        text-align: right;\n",
       "    }\n",
       "</style>\n",
       "<table border=\"1\" class=\"dataframe\">\n",
       "  <thead>\n",
       "    <tr style=\"text-align: right;\">\n",
       "      <th></th>\n",
       "      <th>cnpj_basico</th>\n",
       "      <th>identificador_de_socio</th>\n",
       "      <th>nome_do_socio_ou_razao_social</th>\n",
       "      <th>cnpj_ou_cpf_do_socio</th>\n",
       "      <th>qualificacao_do_socio</th>\n",
       "      <th>data_de_entrada_sociedade</th>\n",
       "      <th>pais</th>\n",
       "      <th>representante_legal</th>\n",
       "      <th>nome_do_representante</th>\n",
       "      <th>qualificacao_do_representante_legal</th>\n",
       "      <th>faixa_etaria</th>\n",
       "    </tr>\n",
       "  </thead>\n",
       "  <tbody>\n",
       "    <tr>\n",
       "      <th>0</th>\n",
       "      <td>411</td>\n",
       "      <td>2</td>\n",
       "      <td>LILIANA PATRICIA GUASTAVINO</td>\n",
       "      <td>***678188**</td>\n",
       "      <td>22</td>\n",
       "      <td>1994-07-25</td>\n",
       "      <td>NaN</td>\n",
       "      <td>***000000**</td>\n",
       "      <td>None</td>\n",
       "      <td>0</td>\n",
       "      <td>7</td>\n",
       "    </tr>\n",
       "    <tr>\n",
       "      <th>1</th>\n",
       "      <td>411</td>\n",
       "      <td>2</td>\n",
       "      <td>CRISTINA HUNDERTMARK</td>\n",
       "      <td>***637848**</td>\n",
       "      <td>28</td>\n",
       "      <td>1994-07-25</td>\n",
       "      <td>NaN</td>\n",
       "      <td>***000000**</td>\n",
       "      <td>None</td>\n",
       "      <td>0</td>\n",
       "      <td>7</td>\n",
       "    </tr>\n",
       "    <tr>\n",
       "      <th>2</th>\n",
       "      <td>5813</td>\n",
       "      <td>2</td>\n",
       "      <td>CELSO EDUARDO DE CASTRO STEPHAN</td>\n",
       "      <td>***786068**</td>\n",
       "      <td>49</td>\n",
       "      <td>1994-05-16</td>\n",
       "      <td>NaN</td>\n",
       "      <td>***000000**</td>\n",
       "      <td>None</td>\n",
       "      <td>0</td>\n",
       "      <td>8</td>\n",
       "    </tr>\n",
       "    <tr>\n",
       "      <th>3</th>\n",
       "      <td>5813</td>\n",
       "      <td>2</td>\n",
       "      <td>EDUARDO BERRINGER STEPHAN</td>\n",
       "      <td>***442348**</td>\n",
       "      <td>49</td>\n",
       "      <td>1994-05-16</td>\n",
       "      <td>NaN</td>\n",
       "      <td>***000000**</td>\n",
       "      <td>None</td>\n",
       "      <td>0</td>\n",
       "      <td>5</td>\n",
       "    </tr>\n",
       "    <tr>\n",
       "      <th>4</th>\n",
       "      <td>14798</td>\n",
       "      <td>2</td>\n",
       "      <td>HANNE MAHFOUD FADEL</td>\n",
       "      <td>***760388**</td>\n",
       "      <td>49</td>\n",
       "      <td>1994-06-09</td>\n",
       "      <td>NaN</td>\n",
       "      <td>***000000**</td>\n",
       "      <td>None</td>\n",
       "      <td>0</td>\n",
       "      <td>8</td>\n",
       "    </tr>\n",
       "  </tbody>\n",
       "</table>\n",
       "</div>"
      ],
      "text/plain": [
       "   cnpj_basico  identificador_de_socio    nome_do_socio_ou_razao_social  \\\n",
       "0          411                       2      LILIANA PATRICIA GUASTAVINO   \n",
       "1          411                       2             CRISTINA HUNDERTMARK   \n",
       "2         5813                       2  CELSO EDUARDO DE CASTRO STEPHAN   \n",
       "3         5813                       2        EDUARDO BERRINGER STEPHAN   \n",
       "4        14798                       2              HANNE MAHFOUD FADEL   \n",
       "\n",
       "  cnpj_ou_cpf_do_socio  qualificacao_do_socio data_de_entrada_sociedade  pais  \\\n",
       "0          ***678188**                     22                1994-07-25   NaN   \n",
       "1          ***637848**                     28                1994-07-25   NaN   \n",
       "2          ***786068**                     49                1994-05-16   NaN   \n",
       "3          ***442348**                     49                1994-05-16   NaN   \n",
       "4          ***760388**                     49                1994-06-09   NaN   \n",
       "\n",
       "  representante_legal nome_do_representante  \\\n",
       "0         ***000000**                  None   \n",
       "1         ***000000**                  None   \n",
       "2         ***000000**                  None   \n",
       "3         ***000000**                  None   \n",
       "4         ***000000**                  None   \n",
       "\n",
       "   qualificacao_do_representante_legal  faixa_etaria  \n",
       "0                                    0             7  \n",
       "1                                    0             7  \n",
       "2                                    0             8  \n",
       "3                                    0             5  \n",
       "4                                    0             8  "
      ]
     },
     "execution_count": 7,
     "metadata": {},
     "output_type": "execute_result"
    }
   ],
   "source": [
    "\"\"\" Cast data_de_entrada_sociedade to DateType() \"\"\"\n",
    "\n",
    "socios_df = socios_df.withColumn(\"data_de_entrada_sociedade\", f.to_date(socios_df.data_de_entrada_sociedade.cast(StringType()), \"yyyyMMdd\"))\n",
    "\n",
    "socios_df.printSchema()\n",
    "socios_df.limit(5).toPandas()"
   ]
  },
  {
   "cell_type": "code",
   "execution_count": 9,
   "id": "afed128e-32a4-431b-bd17-64cbad83e3c7",
   "metadata": {},
   "outputs": [
    {
     "name": "stdout",
     "output_type": "stream",
     "text": [
      "+-------------------------------+------------+--------------+\n",
      "|nome_do_socio_ou_razao_social  |faixa_etaria|ano_de_entrada|\n",
      "+-------------------------------+------------+--------------+\n",
      "|LILIANA PATRICIA GUASTAVINO    |7           |1994          |\n",
      "|CRISTINA HUNDERTMARK           |7           |1994          |\n",
      "|CELSO EDUARDO DE CASTRO STEPHAN|8           |1994          |\n",
      "|EDUARDO BERRINGER STEPHAN      |5           |1994          |\n",
      "|HANNE MAHFOUD FADEL            |8           |1994          |\n",
      "+-------------------------------+------------+--------------+\n",
      "only showing top 5 rows\n",
      "\n"
     ]
    }
   ],
   "source": [
    "\"\"\" Select columns \"\"\"\n",
    "socios_df\\\n",
    "    .select('nome_do_socio_ou_razao_social', 'faixa_etaria', f.year('data_de_entrada_sociedade').alias('ano_de_entrada'))\\\n",
    "    .show(5, truncate=False)"
   ]
  },
  {
   "cell_type": "code",
   "execution_count": 12,
   "id": "6176b824-1381-415d-b54b-a3012f0be1c0",
   "metadata": {},
   "outputs": [
    {
     "name": "stderr",
     "output_type": "stream",
     "text": [
      "[Stage 9:>                                                        (0 + 10) / 10]\r"
     ]
    },
    {
     "name": "stdout",
     "output_type": "stream",
     "text": [
      "+------------------------------+------------+--------------+\n",
      "|nome_do_socio_ou_razao_social |faixa_etaria|ano_de_entrada|\n",
      "+------------------------------+------------+--------------+\n",
      "|FLAVIO SOARES FERREIRA MARTINS|6           |2021          |\n",
      "|RANIERE DE FREITAS ANDRADE    |4           |2021          |\n",
      "|KASSIANO RODRIGO KICHILESKI   |4           |2021          |\n",
      "|MARCIO AURELIO LEITE          |7           |2021          |\n",
      "|LUCAS ELIAQUIM CARDOSO SANTANA|3           |2021          |\n",
      "+------------------------------+------------+--------------+\n",
      "only showing top 5 rows\n",
      "\n"
     ]
    },
    {
     "name": "stderr",
     "output_type": "stream",
     "text": [
      "                                                                                \r"
     ]
    }
   ],
   "source": [
    "\"\"\" Select specific columns and order by ano_de_entrada \"\"\"\n",
    "socios_df\\\n",
    "    .select('nome_do_socio_ou_razao_social', 'faixa_etaria', f.year('data_de_entrada_sociedade').alias('ano_de_entrada'))\\\n",
    "    .orderBy(\"ano_de_entrada\", ascending=False)\\\n",
    "    .show(5, truncate=False)"
   ]
  },
  {
   "cell_type": "code",
   "execution_count": 14,
   "id": "4cd85127-6753-4a31-baec-fbee3a69aa40",
   "metadata": {},
   "outputs": [
    {
     "name": "stderr",
     "output_type": "stream",
     "text": [
      "[Stage 10:>                                                       (0 + 10) / 10]\r"
     ]
    },
    {
     "name": "stdout",
     "output_type": "stream",
     "text": [
      "+-----------------------------+------------+--------------+\n",
      "|nome_do_socio_ou_razao_social|faixa_etaria|ano_de_entrada|\n",
      "+-----------------------------+------------+--------------+\n",
      "|EDGAR FRANCISCO DA SILVA     |9           |2021          |\n",
      "|JOAO FERREIRA PEREIRA        |9           |2021          |\n",
      "|JANYR BELLUCI MIDUATI        |9           |2021          |\n",
      "|EMILIO PORTELLA DE SOUSA     |9           |2021          |\n",
      "|MARIZE DA ROSA LIMA          |9           |2021          |\n",
      "+-----------------------------+------------+--------------+\n",
      "only showing top 5 rows\n",
      "\n"
     ]
    },
    {
     "name": "stderr",
     "output_type": "stream",
     "text": [
      "                                                                                \r"
     ]
    }
   ],
   "source": [
    "\"\"\" Select specific columns and order by multiples columns \"\"\"\n",
    "socios_df\\\n",
    "    .select('nome_do_socio_ou_razao_social', 'faixa_etaria', f.year('data_de_entrada_sociedade').alias('ano_de_entrada'))\\\n",
    "    .orderBy([\"ano_de_entrada\", \"faixa_etaria\"], ascending=[False, False])\\\n",
    "    .show(5, truncate=False)"
   ]
  },
  {
   "cell_type": "code",
   "execution_count": null,
   "id": "fed629ac-ebfc-4b8e-bc64-371d333be5b7",
   "metadata": {},
   "outputs": [],
   "source": []
  }
 ],
 "metadata": {
  "kernelspec": {
   "display_name": "Python 3 (ipykernel)",
   "language": "python",
   "name": "python3"
  },
  "language_info": {
   "codemirror_mode": {
    "name": "ipython",
    "version": 3
   },
   "file_extension": ".py",
   "mimetype": "text/x-python",
   "name": "python",
   "nbconvert_exporter": "python",
   "pygments_lexer": "ipython3",
   "version": "3.11.7"
  }
 },
 "nbformat": 4,
 "nbformat_minor": 5
}
