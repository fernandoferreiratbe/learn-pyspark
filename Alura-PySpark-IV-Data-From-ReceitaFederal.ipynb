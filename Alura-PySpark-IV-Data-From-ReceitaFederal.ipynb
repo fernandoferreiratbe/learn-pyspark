{
 "cells": [
  {
   "cell_type": "code",
   "execution_count": 1,
   "id": "b228a043-6a98-42c6-8c40-87e12957ab8d",
   "metadata": {},
   "outputs": [],
   "source": [
    "import os\n",
    "import zipfile\n",
    "from pyspark.sql import SparkSession\n",
    "\n",
    "os.environ[\"SPARK_HOME\"] = \"/usr/local/bin/spark-3.5.1-bin-hadoop3\""
   ]
  },
  {
   "cell_type": "code",
   "execution_count": 2,
   "id": "3d120cab-180a-47ea-89c1-1d87cc234648",
   "metadata": {},
   "outputs": [
    {
     "name": "stderr",
     "output_type": "stream",
     "text": [
      "24/07/28 23:38:20 WARN Utils: Your hostname, Fernandos-MacBook-Pro.local resolves to a loopback address: 127.0.0.1; using 192.168.1.3 instead (on interface en0)\n",
      "24/07/28 23:38:20 WARN Utils: Set SPARK_LOCAL_IP if you need to bind to another address\n",
      "Setting default log level to \"WARN\".\n",
      "To adjust logging level use sc.setLogLevel(newLevel). For SparkR, use setLogLevel(newLevel).\n",
      "24/07/28 23:38:21 WARN NativeCodeLoader: Unable to load native-hadoop library for your platform... using builtin-java classes where applicable\n"
     ]
    }
   ],
   "source": [
    "spark_session = SparkSession.builder.appName(\"Dados Receita Federal\").getOrCreate()\n",
    "\n",
    "destination_file_path = \"/Users/fernandoferreira/Code/pyspark-youtube/data/\""
   ]
  },
  {
   "cell_type": "code",
   "execution_count": 3,
   "id": "47d4a220-8b78-47ec-bd2c-e21922583315",
   "metadata": {},
   "outputs": [],
   "source": [
    "zipfile_path = \"/Users/fernandoferreira/Code/pyspark-youtube/data/empresas.zip\"\n",
    "\n",
    "zipfile.ZipFile(zipfile_path, 'r').extractall(destination_file_path)"
   ]
  },
  {
   "cell_type": "code",
   "execution_count": 10,
   "id": "4c2f5370-a314-4ae9-a420-43d1319970d2",
   "metadata": {},
   "outputs": [
    {
     "name": "stderr",
     "output_type": "stream",
     "text": [
      "                                                                                \r"
     ]
    }
   ],
   "source": [
    "input_files_path = f\"{destination_file_path}/empresas\"\n",
    "\n",
    "empresas = spark_session.read.csv(input_files_path, sep=';', inferSchema=True)"
   ]
  },
  {
   "cell_type": "code",
   "execution_count": 11,
   "id": "37e165cb-bc02-46af-9409-9146f2412380",
   "metadata": {},
   "outputs": [
    {
     "data": {
      "text/plain": [
       "4836219"
      ]
     },
     "execution_count": 11,
     "metadata": {},
     "output_type": "execute_result"
    }
   ],
   "source": [
    "empresas.count()"
   ]
  },
  {
   "cell_type": "code",
   "execution_count": 4,
   "id": "7ccad337-841b-4a6a-9db4-82e0f00346d9",
   "metadata": {},
   "outputs": [
    {
     "name": "stderr",
     "output_type": "stream",
     "text": [
      "24/07/28 23:38:33 WARN GarbageCollectionMetrics: To enable non-built-in garbage collector(s) List(G1 Concurrent GC), users should configure it(them) to spark.eventLog.gcMetrics.youngGenerationGarbageCollectors or spark.eventLog.gcMetrics.oldGenerationGarbageCollectors\n"
     ]
    }
   ],
   "source": [
    "zipfile_path = \"/Users/fernandoferreira/Code/pyspark-youtube/data/estabelecimentos.zip\"\n",
    "\n",
    "zipfile.ZipFile(zipfile_path, 'r').extractall(destination_file_path)"
   ]
  },
  {
   "cell_type": "code",
   "execution_count": 5,
   "id": "9c68922a-7767-42e4-b0d2-9e137287abf6",
   "metadata": {},
   "outputs": [
    {
     "name": "stderr",
     "output_type": "stream",
     "text": [
      "                                                                                \r"
     ]
    }
   ],
   "source": [
    "input_files_path = f\"{destination_file_path}/estabelecimentos\"\n",
    "\n",
    "estabelecimentos = spark_session.read.csv(input_files_path, sep=';', inferSchema=True)"
   ]
  },
  {
   "cell_type": "code",
   "execution_count": 6,
   "id": "4dc231cf-e77a-4350-b6da-2947db1940c7",
   "metadata": {},
   "outputs": [
    {
     "name": "stderr",
     "output_type": "stream",
     "text": [
      "                                                                                \r"
     ]
    },
    {
     "data": {
      "text/plain": [
       "4836219"
      ]
     },
     "execution_count": 6,
     "metadata": {},
     "output_type": "execute_result"
    }
   ],
   "source": [
    "estabelecimentos.count()"
   ]
  },
  {
   "cell_type": "code",
   "execution_count": 7,
   "id": "b58f4516-d906-4483-82af-096ce75371b7",
   "metadata": {},
   "outputs": [],
   "source": [
    "zipfile_path = \"/Users/fernandoferreira/Code/pyspark-youtube/data/socios.zip\"\n",
    "\n",
    "zipfile.ZipFile(zipfile_path, 'r').extractall(destination_file_path)"
   ]
  },
  {
   "cell_type": "code",
   "execution_count": 8,
   "id": "732639d8-834c-428c-bd93-32b674d36cc4",
   "metadata": {},
   "outputs": [
    {
     "name": "stderr",
     "output_type": "stream",
     "text": [
      "                                                                                \r"
     ]
    }
   ],
   "source": [
    "input_files_path = f\"{destination_file_path}/socios\"\n",
    "\n",
    "socios = spark_session.read.csv(input_files_path, sep=';', inferSchema=True)"
   ]
  },
  {
   "cell_type": "code",
   "execution_count": 9,
   "id": "1f4fe160-2be6-4e33-b897-8e41b50ad480",
   "metadata": {},
   "outputs": [
    {
     "data": {
      "text/plain": [
       "2046430"
      ]
     },
     "execution_count": 9,
     "metadata": {},
     "output_type": "execute_result"
    }
   ],
   "source": [
    "socios.count()"
   ]
  },
  {
   "cell_type": "code",
   "execution_count": null,
   "id": "8cfe6998-441b-43ea-96cd-4a702548ca10",
   "metadata": {},
   "outputs": [],
   "source": []
  }
 ],
 "metadata": {
  "kernelspec": {
   "display_name": "Python 3 (ipykernel)",
   "language": "python",
   "name": "python3"
  },
  "language_info": {
   "codemirror_mode": {
    "name": "ipython",
    "version": 3
   },
   "file_extension": ".py",
   "mimetype": "text/x-python",
   "name": "python",
   "nbconvert_exporter": "python",
   "pygments_lexer": "ipython3",
   "version": "3.11.7"
  }
 },
 "nbformat": 4,
 "nbformat_minor": 5
}
